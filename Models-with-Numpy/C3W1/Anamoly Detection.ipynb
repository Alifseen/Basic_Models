{
 "cells": [
  {
   "cell_type": "code",
   "execution_count": 1,
   "id": "855db2fc-1ccc-491c-845f-4362309ca554",
   "metadata": {},
   "outputs": [],
   "source": [
    "import numpy as np\n",
    "import matplotlib.pyplot as plt\n",
    "\n",
    "%matplotlib inline"
   ]
  },
  {
   "cell_type": "code",
   "execution_count": 2,
   "id": "2e761255-82e1-415a-89f3-c3bb2c7797e7",
   "metadata": {},
   "outputs": [],
   "source": [
    "xtr = np.load(\"data/X_part1.npy\")\n",
    "xcv = np.load(\"data/X_val_part1.npy\")\n",
    "ycv = np.load('data/y_val_part1.npy')"
   ]
  },
  {
   "cell_type": "code",
   "execution_count": 3,
   "id": "0afe9d93-dffd-44b5-b6e2-52d2872415a9",
   "metadata": {},
   "outputs": [
    {
     "name": "stdout",
     "output_type": "stream",
     "text": [
      "Training Set: [[13.04681517 14.74115241]\n",
      " [13.40852019 13.7632696 ]]\n",
      "Validation X Set: [[15.79025979 14.9210243 ]\n",
      " [13.63961877 15.32995521]]\n",
      "Validation Y Set: [0 0]\n"
     ]
    }
   ],
   "source": [
    "print(f\"Training Set: {xtr[:2]}\")\n",
    "print(f\"Validation X Set: {xcv[:2]}\")\n",
    "print(f\"Validation Y Set: {ycv[:2]}\")"
   ]
  },
  {
   "cell_type": "code",
   "execution_count": 4,
   "id": "be64e07d-be0b-4a1a-b4e7-9c440d7f1a51",
   "metadata": {},
   "outputs": [
    {
     "name": "stdout",
     "output_type": "stream",
     "text": [
      "(307, 2) (307, 2) (307,)\n"
     ]
    }
   ],
   "source": [
    "print(xtr.shape, xcv.shape, ycv.shape)"
   ]
  },
  {
   "cell_type": "code",
   "execution_count": 5,
   "id": "8f81b36f-9110-4841-a7ae-a9a5d66c8a3d",
   "metadata": {},
   "outputs": [
    {
     "data": {
      "image/png": "[encoded data removed]",
      "text/plain": [
       "<Figure size 640x480 with 1 Axes>"
      ]
     },
     "metadata": {},
     "output_type": "display_data"
    }
   ],
   "source": [
    "plt.scatter(xtr[:, 0], xtr[:, 1])\n",
    "plt.show()"
   ]
  },
  {
   "cell_type": "code",
   "execution_count": 6,
   "id": "1a312317-5769-4223-8092-a5d60ad9719c",
   "metadata": {},
   "outputs": [
    {
     "data": {
      "text/plain": [
       "array([0.04249777, 0.04801678])"
      ]
     },
     "execution_count": 6,
     "metadata": {},
     "output_type": "execute_result"
    }
   ],
   "source": [
    "xtr[0] / 307"
   ]
  },
  {
   "cell_type": "code",
   "execution_count": 7,
   "id": "549f42a6-074a-4124-aa5f-49c8aece6396",
   "metadata": {},
   "outputs": [],
   "source": [
    "def estimate_gaussian(x):\n",
    "    m = x.shape[0]\n",
    "    mu = np.sum(x , axis=0) / m\n",
    "    var = np.sum((x-mu)**2 , axis=0) / m\n",
    "    return mu, var"
   ]
  },
  {
   "cell_type": "code",
   "execution_count": 8,
   "id": "41539f76-4d3a-4016-9144-08614b0e907d",
   "metadata": {},
   "outputs": [
    {
     "name": "stdout",
     "output_type": "stream",
     "text": [
      "Mean of each feature: [14.11222578 14.99771051]\n",
      "Variance of each feature: [1.83263141 1.70974533]\n"
     ]
    }
   ],
   "source": [
    "mu, var = estimate_gaussian(xtr)              \n",
    "\n",
    "print(\"Mean of each feature:\", mu)\n",
    "print(\"Variance of each feature:\", var)"
   ]
  },
  {
   "cell_type": "code",
   "execution_count": 9,
   "id": "edab550e-7d53-4be0-8e35-7598b9c26d44",
   "metadata": {},
   "outputs": [],
   "source": [
    "def multivariate_gaussian(X, mu, var):\n",
    "    \"\"\"\n",
    "    Computes the probability \n",
    "    density function of the examples X under the multivariate gaussian \n",
    "    distribution with parameters mu and var. If var is a matrix, it is\n",
    "    treated as the covariance matrix. If var is a vector, it is treated\n",
    "    as the var values of the variances in each dimension (a diagonal\n",
    "    covariance matrix\n",
    "    \"\"\"\n",
    "    \n",
    "    k = len(mu)\n",
    "    \n",
    "    if var.ndim == 1:\n",
    "        var = np.diag(var)\n",
    "        \n",
    "    X = X - mu\n",
    "    p = (2* np.pi)**(-k/2) * np.linalg.det(var)**(-0.5) * \\\n",
    "        np.exp(-0.5 * np.sum(np.matmul(X, np.linalg.pinv(var)) * X, axis=1))\n",
    "    \n",
    "    return p"
   ]
  },
  {
   "cell_type": "code",
   "execution_count": 10,
   "id": "37d71d67-71d6-410c-a630-5f72fb71a556",
   "metadata": {},
   "outputs": [],
   "source": [
    "p_val = multivariate_gaussian(xtr, mu, var)"
   ]
  },
  {
   "cell_type": "code",
   "execution_count": 11,
   "id": "64d0be4e-4d5f-43ae-98a4-5353fc92eb40",
   "metadata": {},
   "outputs": [
    {
     "data": {
      "image/png": "[encoded data removed]",
      "text/plain": [
       "<Figure size 640x480 with 1 Axes>"
      ]
     },
     "metadata": {},
     "output_type": "display_data"
    }
   ],
   "source": [
    "plt.bar(range(307), p_val)\n",
    "plt.show()"
   ]
  },
  {
   "cell_type": "code",
   "execution_count": 12,
   "id": "dfdf8428-1021-41dd-840d-0a485bbe5bb1",
   "metadata": {},
   "outputs": [],
   "source": [
    "def select_threshold(y, p):\n",
    "    best_threshold = 0\n",
    "    best_f1 = 0\n",
    "    f1 = 0\n",
    "\n",
    "    step = (max(p) - min(p)) / 1000\n",
    "\n",
    "    for threshold in np.arange(min(p), max(p), step):\n",
    "        pred = p < threshold\n",
    "\n",
    "        tp = sum((pred==1) & (y==1))\n",
    "        fp = sum((pred==1) & (y==0))\n",
    "        fn = sum((pred==0) & (y==1))\n",
    "        if tp + fp == 0 or tp + fn == 0:\n",
    "            continue\n",
    "        prec = tp/ (tp+fp)\n",
    "        rec = tp / (tp+fn)\n",
    "        if prec + rec == 0:\n",
    "            continue\n",
    "        f1 = (2*prec*rec) / (prec+rec)\n",
    "\n",
    "        if f1 > best_f1:\n",
    "            best_f1 = f1\n",
    "            best_threshold = threshold\n",
    "\n",
    "    return best_threshold, best_f1"
   ]
  },
  {
   "cell_type": "code",
   "execution_count": 13,
   "id": "4362c931-7db2-41aa-95cd-ffab583dd39a",
   "metadata": {},
   "outputs": [
    {
     "name": "stdout",
     "output_type": "stream",
     "text": [
      "Best epsilon found using cross-validation: 8.986095e-05\n",
      "Best F1 on Cross Validation Set: 0.800000\n"
     ]
    }
   ],
   "source": [
    "epsilon, F1 = select_threshold(ycv, p_val)\n",
    "\n",
    "print('Best epsilon found using cross-validation: %e' % epsilon)\n",
    "print('Best F1 on Cross Validation Set: %f' % F1)"
   ]
  },
  {
   "cell_type": "code",
   "execution_count": 14,
   "id": "e3e4550a-7504-47e4-944a-f1b383b4c5bb",
   "metadata": {},
   "outputs": [],
   "source": [
    "X_train_high = np.load(\"data/X_part2.npy\")\n",
    "X_val_high = np.load(\"data/X_val_part2.npy\")\n",
    "y_val_high = np.load(\"data/y_val_part2.npy\")"
   ]
  },
  {
   "cell_type": "code",
   "execution_count": 15,
   "id": "2f50fdde-cd7b-4851-ab9a-fd1f6b263e7f",
   "metadata": {},
   "outputs": [
    {
     "name": "stdout",
     "output_type": "stream",
     "text": [
      "Best epsilon found using cross-validation: 1.377229e-18\n",
      "Best F1 on Cross Validation Set:  0.615385\n",
      "# Anomalies found: 117\n"
     ]
    }
   ],
   "source": [
    "mu_high, var_high = estimate_gaussian(X_train_high)\n",
    "\n",
    "# Evaluate the probabilites for the training set\n",
    "p_high = multivariate_gaussian(X_train_high, mu_high, var_high)\n",
    "\n",
    "# Evaluate the probabilites for the cross validation set\n",
    "p_val_high = multivariate_gaussian(X_val_high, mu_high, var_high)\n",
    "\n",
    "# Find the best threshold\n",
    "epsilon_high, F1_high = select_threshold(y_val_high, p_val_high)\n",
    "\n",
    "print('Best epsilon found using cross-validation: %e'% epsilon_high)\n",
    "print('Best F1 on Cross Validation Set:  %f'% F1_high)\n",
    "print('# Anomalies found: %d'% sum(p_high < epsilon_high))"
   ]
  },
  {
   "cell_type": "code",
   "execution_count": null,
   "id": "9eef746f-5648-4758-b28b-e834ea20f378",
   "metadata": {},
   "outputs": [],
   "source": []
  }
 ],
 "metadata": {
  "kernelspec": {
   "display_name": "Python 3.10 (ML)",
   "language": "python",
   "name": "ml3.11"
  },
  "language_info": {
   "codemirror_mode": {
    "name": "ipython",
    "version": 3
   },
   "file_extension": ".py",
   "mimetype": "text/x-python",
   "name": "python",
   "nbconvert_exporter": "python",
   "pygments_lexer": "ipython3",
   "version": "3.11.13"
  }
 },
 "nbformat": 4,
 "nbformat_minor": 5
}
