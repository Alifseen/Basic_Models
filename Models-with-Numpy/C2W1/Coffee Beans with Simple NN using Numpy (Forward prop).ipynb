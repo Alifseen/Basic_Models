{
 "cells": [
  {
   "cell_type": "code",
   "execution_count": 1,
   "id": "b42f38a9-1dc1-41b6-96c1-9eb7161dc3a3",
   "metadata": {},
   "outputs": [
    {
     "name": "stderr",
     "output_type": "stream",
     "text": [
      "2025-07-05 11:12:50.296964: I tensorflow/core/util/port.cc:153] oneDNN custom operations are on. You may see slightly different numerical results due to floating-point round-off errors from different computation orders. To turn them off, set the environment variable `TF_ENABLE_ONEDNN_OPTS=0`.\n",
      "2025-07-05 11:12:50.405021: E external/local_xla/xla/stream_executor/cuda/cuda_fft.cc:467] Unable to register cuFFT factory: Attempting to register factory for plugin cuFFT when one has already been registered\n",
      "WARNING: All log messages before absl::InitializeLog() is called are written to STDERR\n",
      "E0000 00:00:1751695970.450009    3977 cuda_dnn.cc:8579] Unable to register cuDNN factory: Attempting to register factory for plugin cuDNN when one has already been registered\n",
      "E0000 00:00:1751695970.471208    3977 cuda_blas.cc:1407] Unable to register cuBLAS factory: Attempting to register factory for plugin cuBLAS when one has already been registered\n",
      "W0000 00:00:1751695970.555678    3977 computation_placer.cc:177] computation placer already registered. Please check linkage and avoid linking the same target more than once.\n",
      "W0000 00:00:1751695970.555731    3977 computation_placer.cc:177] computation placer already registered. Please check linkage and avoid linking the same target more than once.\n",
      "W0000 00:00:1751695970.555734    3977 computation_placer.cc:177] computation placer already registered. Please check linkage and avoid linking the same target more than once.\n",
      "W0000 00:00:1751695970.555736    3977 computation_placer.cc:177] computation placer already registered. Please check linkage and avoid linking the same target more than once.\n",
      "2025-07-05 11:12:50.574197: I tensorflow/core/platform/cpu_feature_guard.cc:210] This TensorFlow binary is optimized to use available CPU instructions in performance-critical operations.\n",
      "To enable the following instructions: AVX2 AVX512F AVX512_VNNI AVX512_BF16 FMA, in other operations, rebuild TensorFlow with the appropriate compiler flags.\n"
     ]
    }
   ],
   "source": [
    "import numpy as np\n",
    "import matplotlib.pyplot as plt\n",
    "import tensorflow as tf\n",
    "import logging"
   ]
  },
  {
   "cell_type": "code",
   "execution_count": 2,
   "id": "e612882b-c3ac-4cb4-8f86-0135d014ce8c",
   "metadata": {},
   "outputs": [],
   "source": [
    "tf.autograph.set_verbosity(0)\n",
    "logging.getLogger(\"tensorflow\").setLevel(logging.ERROR)"
   ]
  },
  {
   "cell_type": "code",
   "execution_count": 3,
   "id": "bc22dfee-b46e-4c42-a223-d1b305905a50",
   "metadata": {},
   "outputs": [],
   "source": [
    "## Synthetic Data\n",
    "rng = np.random.default_rng(2)\n",
    "xtr = rng.random(400).reshape(-1,2)\n",
    "xtr[:,1] = xtr[:,1] * 4 + 11.5         \n",
    "xtr[:,0] = xtr[:,0] * (285-150) + 150  \n",
    "ytr = np.zeros(len(xtr))\n",
    "\n",
    "i=0\n",
    "for t,d in xtr:\n",
    "    y = -3/(260-175)*t + 21\n",
    "    if (t > 175 and t < 260 and d > 12 and d < 15 and d<=y ):\n",
    "        ytr[i] = 1\n",
    "    else:\n",
    "        ytr[i] = 0\n",
    "    i += 1\n",
    "\n",
    "ytr = ytr.reshape(-1,1)"
   ]
  },
  {
   "cell_type": "code",
   "execution_count": 4,
   "id": "2adb5556-60e6-4500-9952-52544d645c92",
   "metadata": {},
   "outputs": [
    {
     "name": "stdout",
     "output_type": "stream",
     "text": [
      "(200, 2) (200, 1)\n",
      "Temp Max: 284.99, Min: 151.32\n",
      "Duration Max: 15.45, Min: 11.51\n"
     ]
    }
   ],
   "source": [
    "print(xtr.shape, ytr.shape)\n",
    "\n",
    "print(f\"Temp Max: {np.max(xtr[:,0]):0.2f}, Min: {np.min(xtr[:,0]):0.2f}\")\n",
    "print(f\"Duration Max: {np.max(xtr[:,1]):0.2f}, Min: {np.min(xtr[:,1]):0.2f}\")"
   ]
  },
  {
   "cell_type": "code",
   "execution_count": 16,
   "id": "c92fe867-fda2-4294-b1a0-a4f690103640",
   "metadata": {},
   "outputs": [],
   "source": [
    "def normalize(x):\n",
    "    mu = np.mean(x, axis=0)\n",
    "    std = np.std(x, axis=0)\n",
    "\n",
    "    std_adj = np.where(std == 0, 1, std)\n",
    "    \n",
    "    x_norm = (x-mu) / std_adj\n",
    "    return x_norm"
   ]
  },
  {
   "cell_type": "code",
   "execution_count": 17,
   "id": "d6cfcc08-d57b-4158-9555-041b80f35aa0",
   "metadata": {},
   "outputs": [],
   "source": [
    "x_norm = normalize(xtr)"
   ]
  },
  {
   "cell_type": "code",
   "execution_count": 18,
   "id": "2e51f423-abbe-47e7-8eb0-8f9a171ce5d9",
   "metadata": {},
   "outputs": [
    {
     "name": "stdout",
     "output_type": "stream",
     "text": [
      "Temp Max: 1.66, Min: -1.69\n",
      "Duration Max: 1.79, Min: -1.70\n"
     ]
    }
   ],
   "source": [
    "print(f\"Temp Max: {np.max(x_norm[:,0]):0.2f}, Min: {np.min(x_norm[:,0]):0.2f}\")\n",
    "print(f\"Duration Max: {np.max(x_norm[:,1]):0.2f}, Min: {np.min(x_norm[:,1]):0.2f}\")"
   ]
  },
  {
   "cell_type": "code",
   "execution_count": 19,
   "id": "a0a98644-1c0d-4544-888c-afcea10aa52f",
   "metadata": {},
   "outputs": [],
   "source": [
    "def sigmoid(z):\n",
    "    g = 1/(1+np.exp(-z))\n",
    "    return g"
   ]
  },
  {
   "cell_type": "code",
   "execution_count": 40,
   "id": "9878c841-3bf0-4b23-8fcb-b80461d46f88",
   "metadata": {},
   "outputs": [],
   "source": [
    "def dense_layer(a_in, W, b, activation=sigmoid):\n",
    "    units = W.shape[1]\n",
    "    a_out = np.zeros(units)\n",
    "    print(\"a_in shape:\", a_in.shape)\n",
    "    print(\"W shape:\", W.shape)\n",
    "    for j in range(units):\n",
    "        w = W[:,j]\n",
    "        a_out[j] = activation(w.dot(a_in) + b[j])\n",
    "    return a_out"
   ]
  },
  {
   "cell_type": "code",
   "execution_count": 41,
   "id": "3a4b4921-41b7-42ca-88fe-b802146efbc1",
   "metadata": {},
   "outputs": [],
   "source": [
    "def sequential(x, W1, b1, W2, b2):\n",
    "    a1 = dense_layer(x, W1, b1)\n",
    "    a2 = dense_layer(a1, W2, b2)\n",
    "    return a2"
   ]
  },
  {
   "cell_type": "code",
   "execution_count": 42,
   "id": "86ec9b5b-de9f-4789-b962-3036bd382b86",
   "metadata": {},
   "outputs": [],
   "source": [
    "W1_tmp = np.array( [[-8.93,  0.29, 12.9 ], [-0.1,  -7.32, 10.81]] )\n",
    "b1_tmp = np.array( [-9.82, -9.28,  0.96] )\n",
    "W2_tmp = np.array( [[-31.18], [-27.59], [-32.56]] )\n",
    "b2_tmp = np.array( [15.41] )"
   ]
  },
  {
   "cell_type": "code",
   "execution_count": 43,
   "id": "2f0dd4b4-6564-499d-a74e-4cc337d57dd9",
   "metadata": {},
   "outputs": [],
   "source": [
    "def predict(x, W1, b1, W2, b2):\n",
    "    m = x.shape[0]\n",
    "    p = np.zeros((m,1))\n",
    "    for i in range(m):\n",
    "        p[i,0] = sequential(x[i], W1, b1, W2, b2)\n",
    "    return p"
   ]
  },
  {
   "cell_type": "code",
   "execution_count": 44,
   "id": "35e2215a-edc9-4bb4-8f44-9492b50f465f",
   "metadata": {},
   "outputs": [],
   "source": [
    "X_tst = np.array([\n",
    "    [200,13.9],\n",
    "    [200,17]]) "
   ]
  },
  {
   "cell_type": "code",
   "execution_count": 45,
   "id": "7ca9a019-6778-4b60-97e5-8002e7f5cc8e",
   "metadata": {},
   "outputs": [
    {
     "name": "stdout",
     "output_type": "stream",
     "text": [
      "[[ 0. -1.]\n",
      " [ 0.  1.]]\n"
     ]
    }
   ],
   "source": [
    "X_tstn = normalize(X_tst)\n",
    "print(X_tstn)"
   ]
  },
  {
   "cell_type": "code",
   "execution_count": 46,
   "id": "689b2af8-cf2a-453d-88b0-587d528ff2e9",
   "metadata": {},
   "outputs": [
    {
     "name": "stdout",
     "output_type": "stream",
     "text": [
      "a_in shape: (2,)\n",
      "W shape: (2, 3)\n",
      "a_in shape: (3,)\n",
      "W shape: (3, 1)\n",
      "a_in shape: (2,)\n",
      "W shape: (2, 3)\n",
      "a_in shape: (3,)\n",
      "W shape: (3, 1)\n"
     ]
    },
    {
     "name": "stderr",
     "output_type": "stream",
     "text": [
      "/tmp/ipykernel_3977/1830987532.py:5: DeprecationWarning: Conversion of an array with ndim > 0 to a scalar is deprecated, and will error in future. Ensure you extract a single element from your array before performing this operation. (Deprecated NumPy 1.25.)\n",
      "  p[i,0] = sequential(x[i], W1, b1, W2, b2)\n"
     ]
    }
   ],
   "source": [
    "predictions = predict(X_tstn, W1_tmp, b1_tmp, W2_tmp, b2_tmp)"
   ]
  },
  {
   "cell_type": "code",
   "execution_count": 48,
   "id": "9f36119b-e689-4123-9b0b-c3d018e16a8c",
   "metadata": {},
   "outputs": [
    {
     "data": {
      "text/plain": [
       "array([[1],\n",
       "       [0]])"
      ]
     },
     "execution_count": 48,
     "metadata": {},
     "output_type": "execute_result"
    }
   ],
   "source": [
    "yhat = (predictions >= 0.5).astype(int)\n",
    "yhat"
   ]
  },
  {
   "cell_type": "code",
   "execution_count": null,
   "id": "211fcb09-71d1-465d-85a5-09dcac5dbdab",
   "metadata": {},
   "outputs": [],
   "source": []
  }
 ],
 "metadata": {
  "kernelspec": {
   "display_name": "Python 3.10 (ML)",
   "language": "python",
   "name": "ml3.11"
  },
  "language_info": {
   "codemirror_mode": {
    "name": "ipython",
    "version": 3
   },
   "file_extension": ".py",
   "mimetype": "text/x-python",
   "name": "python",
   "nbconvert_exporter": "python",
   "pygments_lexer": "ipython3",
   "version": "3.11.13"
  }
 },
 "nbformat": 4,
 "nbformat_minor": 5
}
