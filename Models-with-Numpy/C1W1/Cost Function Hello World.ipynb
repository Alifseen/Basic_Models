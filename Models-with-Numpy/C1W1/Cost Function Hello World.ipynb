{
 "cells": [
  {
   "cell_type": "code",
   "execution_count": 1,
   "id": "4fb918ab-e450-4473-a06f-774c835500fb",
   "metadata": {},
   "outputs": [],
   "source": [
    "import numpy as np\n",
    "import matplotlib.pyplot as plt\n",
    "from lab_utils_uni import plt_intuition, plt_stationary, plt_update_onclick, soup_bowl"
   ]
  },
  {
   "cell_type": "code",
   "execution_count": 2,
   "id": "e4f1934d-fcde-4b60-9d11-4ef098ddc308",
   "metadata": {},
   "outputs": [],
   "source": [
    "%matplotlib widget\n",
    "plt.style.use('./deeplearning.mplstyle')"
   ]
  },
  {
   "cell_type": "code",
   "execution_count": 3,
   "id": "61c4f1a1-d8fd-424f-b7a9-f7e89c655994",
   "metadata": {},
   "outputs": [],
   "source": [
    "xtr = np.array([1,2])\n",
    "ytr = np.array([300,500])"
   ]
  },
  {
   "cell_type": "code",
   "execution_count": 4,
   "id": "418fe3f8-be52-40c0-bfe8-b73e6c8c5700",
   "metadata": {},
   "outputs": [],
   "source": [
    "def compute_cost(x, y, w, b):\n",
    "    m = x.shape[0]\n",
    "    cx = 0\n",
    "    for i in range(m):\n",
    "        y_hat = w*x[i]+b\n",
    "        j = (y_hat - y[i])**2\n",
    "        cx = cx+j\n",
    "    cx = cx / (2*m)\n",
    "    return cx"
   ]
  },
  {
   "cell_type": "code",
   "execution_count": 7,
   "id": "af728998-de4d-49a8-bee0-9bbebfbbb726",
   "metadata": {},
   "outputs": [
    {
     "data": {
      "text/plain": [
       "np.float64(125.0)"
      ]
     },
     "execution_count": 7,
     "metadata": {},
     "output_type": "execute_result"
    }
   ],
   "source": [
    "compute_cost(xtr, ytr, 210, 100)"
   ]
  },
  {
   "cell_type": "code",
   "execution_count": 6,
   "id": "4c9eedbb-c83e-450e-81ed-cc718457febd",
   "metadata": {},
   "outputs": [
    {
     "data": {
      "application/vnd.jupyter.widget-view+json": {
       "model_id": "f36b0d00d0d6446ab7adb2043d360cbb",
       "version_major": 2,
       "version_minor": 0
      },
      "text/plain": [
       "interactive(children=(IntSlider(value=150, description='w', max=400, step=10), Output()), _dom_classes=('widge…"
      ]
     },
     "metadata": {},
     "output_type": "display_data"
    }
   ],
   "source": [
    "plt_intuition(xtr, ytr)"
   ]
  },
  {
   "cell_type": "code",
   "execution_count": null,
   "id": "28f8f9c2-1fb2-40e2-8337-d355fed79c30",
   "metadata": {},
   "outputs": [],
   "source": []
  }
 ],
 "metadata": {
  "kernelspec": {
   "display_name": "Python 3.10 (ML)",
   "language": "python",
   "name": "ml3.11"
  },
  "language_info": {
   "codemirror_mode": {
    "name": "ipython",
    "version": 3
   },
   "file_extension": ".py",
   "mimetype": "text/x-python",
   "name": "python",
   "nbconvert_exporter": "python",
   "pygments_lexer": "ipython3",
   "version": "3.11.13"
  }
 },
 "nbformat": 4,
 "nbformat_minor": 5
}
