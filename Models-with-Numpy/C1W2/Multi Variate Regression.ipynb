{
 "cells": [
  {
   "cell_type": "code",
   "execution_count": 36,
   "id": "e5e7389f-279b-4a60-a430-2edb4a39045f",
   "metadata": {},
   "outputs": [],
   "source": [
    "import numpy as np\n",
    "import copy, math\n",
    "import matplotlib.pyplot as plt"
   ]
  },
  {
   "cell_type": "code",
   "execution_count": 37,
   "id": "4078c0d3-b433-4650-9cb6-454a12ecef02",
   "metadata": {},
   "outputs": [],
   "source": [
    "plt.style.use(\"./deeplearning.mplstyle\")\n",
    "np.set_printoptions(precision=2)"
   ]
  },
  {
   "cell_type": "code",
   "execution_count": 38,
   "id": "35889a70-9bee-47f9-9769-1fa1b8cdc014",
   "metadata": {},
   "outputs": [],
   "source": [
    "xtr = np.array([[2104,5,1,45],[1416,3,2,40],[852,2,1,35]])\n",
    "ytr = np.array([460,232,178])"
   ]
  },
  {
   "cell_type": "code",
   "execution_count": 39,
   "id": "9e489fdc-979f-4513-a18e-77447e54742b",
   "metadata": {},
   "outputs": [],
   "source": [
    "b_init = 785.1811367994083\n",
    "w_init = np.array([0.39133535, 18.75376741, -53.36032453, -26.42131618])"
   ]
  },
  {
   "cell_type": "code",
   "execution_count": 47,
   "id": "318292ab-4ff3-40c2-a2bd-3984c868d307",
   "metadata": {},
   "outputs": [],
   "source": [
    "def predict_single_elem(x, w, b):\n",
    "    m = x.shape[0]\n",
    "    pred = 0\n",
    "    for i in range(m):\n",
    "        pred_i = w[i] * x[i]\n",
    "        pred += pred_i\n",
    "    pred += b\n",
    "    return pred"
   ]
  },
  {
   "cell_type": "code",
   "execution_count": 49,
   "id": "8041e337-1361-498f-8cf2-b08d0854906f",
   "metadata": {},
   "outputs": [],
   "source": [
    "x_vec = xtr[0,:]"
   ]
  },
  {
   "cell_type": "code",
   "execution_count": 51,
   "id": "6362f97e-8a11-4f5d-9ec6-63d9ca25cf68",
   "metadata": {},
   "outputs": [
    {
     "data": {
      "text/plain": [
       "np.float64(459.9999976194083)"
      ]
     },
     "execution_count": 51,
     "metadata": {},
     "output_type": "execute_result"
    }
   ],
   "source": [
    "predict_single_elem(x_vec, w_init, b_init)"
   ]
  },
  {
   "cell_type": "code",
   "execution_count": 59,
   "id": "40775112-8885-4681-8687-b95eda54229a",
   "metadata": {},
   "outputs": [],
   "source": [
    "def predict_single_vec(x, w, b):\n",
    "    return w.dot(x)+b"
   ]
  },
  {
   "cell_type": "code",
   "execution_count": 60,
   "id": "78347f82-ae0a-41f6-a97d-f8496a19d3d0",
   "metadata": {},
   "outputs": [
    {
     "data": {
      "text/plain": [
       "np.float64(459.9999976194083)"
      ]
     },
     "execution_count": 60,
     "metadata": {},
     "output_type": "execute_result"
    }
   ],
   "source": [
    "predict_single_vec(x_vec, w_init, b_init)"
   ]
  },
  {
   "cell_type": "code",
   "execution_count": 61,
   "id": "59d44b39-dcb0-4993-b7ad-ff0b1edae888",
   "metadata": {},
   "outputs": [],
   "source": [
    "def compute_cost(x, y, w, b, pred=predict_single_vec):\n",
    "    m = x.shape[0]\n",
    "    cost = 0\n",
    "    for i in range(m):\n",
    "        y_hat = pred(x[i], w, b)\n",
    "        j = (y_hat-y[i])**2 / (2*m)\n",
    "        cost += j\n",
    "    return cost"
   ]
  },
  {
   "cell_type": "code",
   "execution_count": 62,
   "id": "075694c9-aebb-4a87-a4aa-6c07de89050f",
   "metadata": {},
   "outputs": [
    {
     "data": {
      "text/plain": [
       "np.float64(1.557890442896663e-12)"
      ]
     },
     "execution_count": 62,
     "metadata": {},
     "output_type": "execute_result"
    }
   ],
   "source": [
    "compute_cost(xtr, ytr, w_init, b_init)"
   ]
  },
  {
   "cell_type": "code",
   "execution_count": 94,
   "id": "4ca37d78-04c6-4e91-b688-241ab89334f8",
   "metadata": {},
   "outputs": [],
   "source": [
    "def compute_gradient(x, y, w, b):\n",
    "    m, n = x.shape\n",
    "    dj_dw = np.zeros((n,))\n",
    "    dj_db = 0\n",
    "    for i in range(m):\n",
    "        err = (w.dot(x[i]) + b) - y[i]\n",
    "        for j in range(n):\n",
    "            dj_dw[j] = dj_dw[j]+ err * x[i, j]\n",
    "        dj_db += err\n",
    "    dj_dw = dj_dw / m\n",
    "    dj_db = dj_db / m\n",
    "    return dj_dw, dj_db"
   ]
  },
  {
   "cell_type": "code",
   "execution_count": 95,
   "id": "9c8eb3af-c80e-43ab-9126-4eeb69115cc3",
   "metadata": {},
   "outputs": [
    {
     "data": {
      "text/plain": [
       "(array([-2.73e-03, -6.27e-06, -2.22e-06, -6.92e-05]),\n",
       " np.float64(-1.6739251501955248e-06))"
      ]
     },
     "execution_count": 95,
     "metadata": {},
     "output_type": "execute_result"
    }
   ],
   "source": [
    "compute_gradient(xtr, ytr, w_init, b_init)"
   ]
  },
  {
   "cell_type": "code",
   "execution_count": 98,
   "id": "a96e96a9-06e8-4000-9adf-8cb2dad976be",
   "metadata": {},
   "outputs": [],
   "source": [
    "def gradient_descent(x, y, w, b, compute_cost, compute_gradient, alpha, iters):\n",
    "    cost_history = []\n",
    "    parameter_history = []\n",
    "\n",
    "    m, n = x.shape\n",
    "    w_in = w\n",
    "    b_in = b\n",
    "\n",
    "    for i in range(iters):\n",
    "        dw, db = compute_gradient(x, y, w_in, b_in)\n",
    "        w_in -= alpha*dw\n",
    "        b_in -= alpha*db\n",
    "\n",
    "        if i < 100000:\n",
    "            cost_history.append(compute_cost(x, y, w_in, b_in))\n",
    "            parameter_history.append([w_in, b_in])\n",
    "    \n",
    "        if i% math.ceil(iters/10)==0:\n",
    "            print(f\"Iterations: {i}, cost: {cost_history[-1]}, Parameters: W={w_in} B={b_in}\")\n",
    "\n",
    "    return w_in, b_in, cost_history, parameter_history"
   ]
  },
  {
   "cell_type": "code",
   "execution_count": 99,
   "id": "90eb9c24-9767-4d71-a900-a8a48569ddd4",
   "metadata": {},
   "outputs": [
    {
     "name": "stdout",
     "output_type": "stream",
     "text": [
      "Iterations: 0, cost: 2529.46295223163, Parameters: W=[2.41e-01 5.59e-04 1.84e-04 6.03e-03] B=0.000145\n",
      "Iterations: 100, cost: 695.9903158352029, Parameters: W=[ 0.2  0.  -0.  -0. ] B=-0.0001198596187768893\n",
      "Iterations: 200, cost: 694.9206979323061, Parameters: W=[ 0.2   0.   -0.   -0.01] B=-0.00035965781839536286\n",
      "Iterations: 300, cost: 693.8604297851192, Parameters: W=[ 0.2   0.   -0.   -0.02] B=-0.0005983240279392168\n",
      "Iterations: 400, cost: 692.8094286135914, Parameters: W=[ 0.2   0.   -0.   -0.02] B=-0.0008358632706869382\n",
      "Iterations: 500, cost: 691.7676123706057, Parameters: W=[ 0.2   0.   -0.01 -0.03] B=-0.0010722805476294612\n",
      "Iterations: 600, cost: 690.7348997354997, Parameters: W=[ 0.2   0.   -0.01 -0.04] B=-0.0013075808375690545\n",
      "Iterations: 700, cost: 689.7112101076162, Parameters: W=[ 0.2   0.   -0.01 -0.04] B=-0.0015417690972177696\n",
      "Iterations: 800, cost: 688.6964635999459, Parameters: W=[ 0.2   0.   -0.01 -0.05] B=-0.001774850261295446\n",
      "Iterations: 900, cost: 687.6905810327946, Parameters: W=[ 0.2   0.   -0.01 -0.06] B=-0.0020068292426272975\n",
      "Final Parameters: [ 0.2   0.   -0.01 -0.07], -0.002235407530932535\n"
     ]
    }
   ],
   "source": [
    "wf, bf, ch, ph = gradient_descent(xtr, ytr, np.zeros_like(w_init), 0, compute_cost, compute_gradient, alpha=5.0e-7, iters=1000)\n",
    "print(F\"Final Parameters: {wf}, {bf}\")"
   ]
  },
  {
   "cell_type": "code",
   "execution_count": 100,
   "id": "3ee46997-b7af-49e3-89ed-4ce7cd6ef560",
   "metadata": {},
   "outputs": [
    {
     "name": "stdout",
     "output_type": "stream",
     "text": [
      "Prediction: 426.18530497189204, Target: 460\n",
      "Prediction: 286.1674720078562, Target: 232\n",
      "Prediction: 171.46763087132317, Target: 178\n"
     ]
    }
   ],
   "source": [
    "m, _ = xtr.shape\n",
    "for i in range(m):\n",
    "    print(f\"Prediction: {predict_single_vec(xtr[i], wf, bf)}, Target: {ytr[i]}\")"
   ]
  },
  {
   "cell_type": "code",
   "execution_count": null,
   "id": "3cd19779-09b0-413a-b7fd-aa77d3212766",
   "metadata": {},
   "outputs": [],
   "source": []
  }
 ],
 "metadata": {
  "kernelspec": {
   "display_name": "Python 3.10 (ML)",
   "language": "python",
   "name": "ml3.11"
  },
  "language_info": {
   "codemirror_mode": {
    "name": "ipython",
    "version": 3
   },
   "file_extension": ".py",
   "mimetype": "text/x-python",
   "name": "python",
   "nbconvert_exporter": "python",
   "pygments_lexer": "ipython3",
   "version": "3.11.13"
  }
 },
 "nbformat": 4,
 "nbformat_minor": 5
}
