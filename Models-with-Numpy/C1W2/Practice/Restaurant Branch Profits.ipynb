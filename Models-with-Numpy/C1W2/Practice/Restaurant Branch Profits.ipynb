{
 "cells": [
  {
   "cell_type": "code",
   "execution_count": 1,
   "id": "2c62a0ba-1749-464a-a444-4480c5ca25ee",
   "metadata": {},
   "outputs": [],
   "source": [
    "import numpy as np\n",
    "import matplotlib.pyplot as plt\n",
    "from utils import *\n",
    "import math, copy"
   ]
  },
  {
   "cell_type": "code",
   "execution_count": 69,
   "id": "adb6513f-f6e4-4460-8b08-f55aabbd01ec",
   "metadata": {},
   "outputs": [],
   "source": [
    "%matplotlib inline"
   ]
  },
  {
   "cell_type": "code",
   "execution_count": 20,
   "id": "b62067eb-57a8-4730-a58b-1eba50275699",
   "metadata": {},
   "outputs": [],
   "source": [
    "xtr, ytr = load_data()"
   ]
  },
  {
   "cell_type": "code",
   "execution_count": 21,
   "id": "daf2b4a0-c858-4622-9c23-f02f1b347d85",
   "metadata": {},
   "outputs": [
    {
     "name": "stdout",
     "output_type": "stream",
     "text": [
      "<class 'numpy.ndarray'>\n",
      "[6.1101 5.5277 8.5186 7.0032 5.8598]\n"
     ]
    }
   ],
   "source": [
    "print(type(xtr))\n",
    "print(xtr[:5])"
   ]
  },
  {
   "cell_type": "code",
   "execution_count": 22,
   "id": "667a1605-9a6e-4062-8943-ea5cb33c0451",
   "metadata": {},
   "outputs": [
    {
     "name": "stdout",
     "output_type": "stream",
     "text": [
      "<class 'numpy.ndarray'>\n",
      "[17.592   9.1302 13.662  11.854   6.8233]\n"
     ]
    }
   ],
   "source": [
    "print(type(ytr))\n",
    "print(ytr[:5])"
   ]
  },
  {
   "cell_type": "code",
   "execution_count": 23,
   "id": "de7d989a-1ed1-43f8-a219-a7ff3c8b0f2c",
   "metadata": {},
   "outputs": [
    {
     "name": "stdout",
     "output_type": "stream",
     "text": [
      "X:  (97,)\n",
      "Y:  (97,)\n"
     ]
    }
   ],
   "source": [
    "print(\"X: \", xtr.shape)\n",
    "print(\"Y: \", ytr.shape)"
   ]
  },
  {
   "cell_type": "code",
   "execution_count": 27,
   "id": "30e01821-c112-4f3f-a398-2a72cd22eec0",
   "metadata": {},
   "outputs": [
    {
     "data": {
      "image/png": "[encoded data removed]",
      "text/plain": [
       "<Figure size 640x480 with 1 Axes>"
      ]
     },
     "metadata": {},
     "output_type": "display_data"
    }
   ],
   "source": [
    "plt.scatter(xtr,ytr, marker=\"x\", c=\"r\")\n",
    "plt.xlabel(\"Population\")\n",
    "plt.ylabel(\"Profits\")\n",
    "plt.show()"
   ]
  },
  {
   "cell_type": "code",
   "execution_count": 60,
   "id": "f57df83f-4560-4068-bb2e-5241553d5a27",
   "metadata": {},
   "outputs": [],
   "source": [
    "def compute_cost(x, y, w, b):\n",
    "    m = x.shape[0]\n",
    "    total_cost = 0\n",
    "    for i in range(m):\n",
    "        fwx = w*x[i] + b\n",
    "        cost = (fwx - y[i])**2\n",
    "        total_cost += cost\n",
    "    total_cost /= 2*m\n",
    "    return total_cost"
   ]
  },
  {
   "cell_type": "code",
   "execution_count": 61,
   "id": "4b98c1b1-8802-443c-9f07-f44086218e0e",
   "metadata": {},
   "outputs": [
    {
     "data": {
      "text/plain": [
       "np.float64(75.20338497891959)"
      ]
     },
     "execution_count": 61,
     "metadata": {},
     "output_type": "execute_result"
    }
   ],
   "source": [
    "compute_cost(xtr, ytr, 2, 1)"
   ]
  },
  {
   "cell_type": "code",
   "execution_count": 62,
   "id": "72f82175-7880-4ce0-8e10-44b8fc88216e",
   "metadata": {},
   "outputs": [],
   "source": [
    "def compute_gradient(x, y, w, b):\n",
    "    m = x.shape[0]\n",
    "    dj_dw = 0\n",
    "    dj_db = 0\n",
    "    for i in range(m):\n",
    "        fwx = w*x[i] + b\n",
    "        dw = (fwx - y[i])*x[i]\n",
    "        db = fwx - y[i]\n",
    "        dj_dw += dw\n",
    "        dj_db += db\n",
    "    dj_dw /= m\n",
    "    dj_db /= m\n",
    "    return dj_dw, dj_db"
   ]
  },
  {
   "cell_type": "code",
   "execution_count": 63,
   "id": "d610fc4d-9f58-41a0-9efc-a3039541a074",
   "metadata": {},
   "outputs": [
    {
     "data": {
      "text/plain": [
       "(np.float64(-47.41610118114435), np.float64(-4.007175051546391))"
      ]
     },
     "execution_count": 63,
     "metadata": {},
     "output_type": "execute_result"
    }
   ],
   "source": [
    "compute_gradient(xtr, ytr, 0.2, 0.2)"
   ]
  },
  {
   "cell_type": "code",
   "execution_count": 64,
   "id": "57b4323b-cd62-4ff2-91ee-5220711d3c84",
   "metadata": {},
   "outputs": [],
   "source": [
    "def gradient_decsent(x, y, w_in, b_in, alpha, iters, cost = compute_cost, grad = compute_gradient):\n",
    "    j_history = []\n",
    "    p_history = []\n",
    "\n",
    "    w = copy.deepcopy(w_in)\n",
    "    b = b_in\n",
    "\n",
    "    for i in range(iters):\n",
    "        dw, db = grad(x, y, w, b)\n",
    "        w -= alpha*dw\n",
    "        b -= alpha*db\n",
    "\n",
    "        if i < 100000:\n",
    "            j_history.append(cost(x, y, w, b))\n",
    "            p_history.append([w, b])\n",
    "\n",
    "        if i% math.ceil(iters/10)==0:\n",
    "            print(f'Iteration: {i}, Cost: {float(j_history[-1]):0.2f}')\n",
    "\n",
    "    return w, b, j_history, p_history"
   ]
  },
  {
   "cell_type": "code",
   "execution_count": 65,
   "id": "cc01ba7d-c5d7-409b-89b2-16a464598d0e",
   "metadata": {},
   "outputs": [
    {
     "name": "stdout",
     "output_type": "stream",
     "text": [
      "Iteration: 0, Cost: 6.74\n",
      "Iteration: 150, Cost: 5.31\n",
      "Iteration: 300, Cost: 4.96\n",
      "Iteration: 450, Cost: 4.76\n",
      "Iteration: 600, Cost: 4.64\n",
      "Iteration: 750, Cost: 4.57\n",
      "Iteration: 900, Cost: 4.53\n",
      "Iteration: 1050, Cost: 4.51\n",
      "Iteration: 1200, Cost: 4.50\n",
      "Iteration: 1350, Cost: 4.49\n",
      "Final W = 1.166362350335582 and Final B = -3.63029143940436\n"
     ]
    }
   ],
   "source": [
    "w, b, jh, ph = gradient_decsent(xtr, ytr, 0, 0, 0.01, 1500)\n",
    "print(f\"Final W = {w} and Final B = {b}\")"
   ]
  },
  {
   "cell_type": "code",
   "execution_count": 66,
   "id": "2d1e1985-dcb3-4884-8f72-1afa66c458f8",
   "metadata": {},
   "outputs": [],
   "source": [
    "m = xtr.shape[0]\n",
    "y_hat = np.zeros(m)\n",
    "for i in range(m):\n",
    "    y_hat[i] = w * xtr[i] + b"
   ]
  },
  {
   "cell_type": "code",
   "execution_count": 72,
   "id": "c185fa0d-32e5-465b-8cdc-560b6463f79d",
   "metadata": {},
   "outputs": [
    {
     "data": {
      "image/png": "[encoded data removed]",
      "text/plain": [
       "<Figure size 640x480 with 1 Axes>"
      ]
     },
     "metadata": {},
     "output_type": "display_data"
    }
   ],
   "source": [
    "plt.plot(xtr, y_hat, c=\"b\")\n",
    "plt.scatter(xtr, ytr, marker=\"x\", c=\"r\")\n",
    "plt.show()"
   ]
  },
  {
   "cell_type": "code",
   "execution_count": null,
   "id": "0bc02506-c1ee-4865-92dd-1c36870b87a2",
   "metadata": {},
   "outputs": [],
   "source": []
  }
 ],
 "metadata": {
  "kernelspec": {
   "display_name": "Python 3.10 (ML)",
   "language": "python",
   "name": "ml3.11"
  },
  "language_info": {
   "codemirror_mode": {
    "name": "ipython",
    "version": 3
   },
   "file_extension": ".py",
   "mimetype": "text/x-python",
   "name": "python",
   "nbconvert_exporter": "python",
   "pygments_lexer": "ipython3",
   "version": "3.11.13"
  }
 },
 "nbformat": 4,
 "nbformat_minor": 5
}
