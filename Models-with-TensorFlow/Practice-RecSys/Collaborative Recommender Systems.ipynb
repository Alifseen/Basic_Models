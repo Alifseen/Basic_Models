{
 "cells": [
  {
   "cell_type": "code",
   "execution_count": 1,
   "id": "0e31eee0-dd09-4bf9-bb34-07fce2c36ceb",
   "metadata": {},
   "outputs": [
    {
     "name": "stderr",
     "output_type": "stream",
     "text": [
      "2025-07-09 14:01:36.727191: I tensorflow/core/util/port.cc:153] oneDNN custom operations are on. You may see slightly different numerical results due to floating-point round-off errors from different computation orders. To turn them off, set the environment variable `TF_ENABLE_ONEDNN_OPTS=0`.\n",
      "2025-07-09 14:01:36.740096: E external/local_xla/xla/stream_executor/cuda/cuda_fft.cc:467] Unable to register cuFFT factory: Attempting to register factory for plugin cuFFT when one has already been registered\n",
      "WARNING: All log messages before absl::InitializeLog() is called are written to STDERR\n",
      "E0000 00:00:1752051696.752948    2745 cuda_dnn.cc:8579] Unable to register cuDNN factory: Attempting to register factory for plugin cuDNN when one has already been registered\n",
      "E0000 00:00:1752051696.757070    2745 cuda_blas.cc:1407] Unable to register cuBLAS factory: Attempting to register factory for plugin cuBLAS when one has already been registered\n",
      "W0000 00:00:1752051696.768440    2745 computation_placer.cc:177] computation placer already registered. Please check linkage and avoid linking the same target more than once.\n",
      "W0000 00:00:1752051696.768466    2745 computation_placer.cc:177] computation placer already registered. Please check linkage and avoid linking the same target more than once.\n",
      "W0000 00:00:1752051696.768467    2745 computation_placer.cc:177] computation placer already registered. Please check linkage and avoid linking the same target more than once.\n",
      "W0000 00:00:1752051696.768469    2745 computation_placer.cc:177] computation placer already registered. Please check linkage and avoid linking the same target more than once.\n",
      "2025-07-09 14:01:36.772891: I tensorflow/core/platform/cpu_feature_guard.cc:210] This TensorFlow binary is optimized to use available CPU instructions in performance-critical operations.\n",
      "To enable the following instructions: AVX2 AVX512F AVX512_VNNI AVX512_BF16 FMA, in other operations, rebuild TensorFlow with the appropriate compiler flags.\n"
     ]
    }
   ],
   "source": [
    "import numpy as np\n",
    "import tensorflow as tf\n",
    "from tensorflow import keras\n",
    "import pandas as pd"
   ]
  },
  {
   "cell_type": "markdown",
   "id": "1788de75-bbde-4f1d-9965-20943134d0ca",
   "metadata": {},
   "source": [
    "### Data"
   ]
  },
  {
   "cell_type": "code",
   "execution_count": 2,
   "id": "4dc24d04-45b6-4d4e-844e-36ab4f54055c",
   "metadata": {},
   "outputs": [],
   "source": [
    "X = np.loadtxt(open(\"data/small_movies_X.csv\", \"rb\") , delimiter = \",\")\n",
    "W = np.loadtxt(open(\"data/small_movies_W.csv\", \"rb\") , delimiter = \",\")\n",
    "b = np.loadtxt(open(\"data/small_movies_b.csv\", \"rb\") , delimiter = \",\")\n",
    "Y = np.loadtxt(open(\"data/small_movies_Y.csv\", \"rb\") , delimiter = \",\")\n",
    "R = np.loadtxt(open(\"data/small_movies_R.csv\", \"rb\") , delimiter = \",\")"
   ]
  },
  {
   "cell_type": "code",
   "execution_count": 3,
   "id": "eb188199-7a31-4202-8242-c88148ec2267",
   "metadata": {},
   "outputs": [
    {
     "name": "stdout",
     "output_type": "stream",
     "text": [
      "X:  (4778, 10)\n",
      "W:  (443, 10)\n",
      "b:  (443,)\n",
      "Y:  (4778, 443)\n",
      "R:  (4778, 443)\n"
     ]
    }
   ],
   "source": [
    "print(\"X: \", X.shape)\n",
    "print(\"W: \", W.shape)\n",
    "print(\"b: \", b.shape)\n",
    "print(\"Y: \", Y.shape)\n",
    "print(\"R: \", R.shape)"
   ]
  },
  {
   "cell_type": "code",
   "execution_count": 4,
   "id": "7a072269-7c0d-4cbd-8fed-925992e3893f",
   "metadata": {},
   "outputs": [
    {
     "name": "stdout",
     "output_type": "stream",
     "text": [
      "b = (1, 443)\n"
     ]
    }
   ],
   "source": [
    "b = b.reshape(1, -1)\n",
    "print(\"b =\", b.shape)"
   ]
  },
  {
   "cell_type": "code",
   "execution_count": 5,
   "id": "071a3db8-f559-4f94-877c-adabc795432b",
   "metadata": {},
   "outputs": [
    {
     "name": "stdout",
     "output_type": "stream",
     "text": [
      "Movies:  4778\n",
      "Users:  443\n",
      "Features:  10\n"
     ]
    }
   ],
   "source": [
    "num_movies, num_features = X.shape\n",
    "num_users = W.shape[0]\n",
    "\n",
    "print(\"Movies: \" , num_movies)\n",
    "print(\"Users: \" , num_users)\n",
    "print(\"Features: \" , num_features)"
   ]
  },
  {
   "cell_type": "code",
   "execution_count": 6,
   "id": "a36d72f9-44f7-465d-af4c-d869ef804650",
   "metadata": {},
   "outputs": [],
   "source": [
    "movie = Y[0,:]"
   ]
  },
  {
   "cell_type": "code",
   "execution_count": 7,
   "id": "e37ab204-a59b-480b-b5c3-c0eb002202a6",
   "metadata": {},
   "outputs": [],
   "source": [
    "rated = R[0,:] == 1"
   ]
  },
  {
   "cell_type": "code",
   "execution_count": 8,
   "id": "68e9306f-04a6-4779-8776-af6dd6d3e7f5",
   "metadata": {},
   "outputs": [
    {
     "data": {
      "text/plain": [
       "np.float64(3.4)"
      ]
     },
     "execution_count": 8,
     "metadata": {},
     "output_type": "execute_result"
    }
   ],
   "source": [
    "np.mean(movie[rated])"
   ]
  },
  {
   "cell_type": "markdown",
   "id": "95467b89-a23e-49a1-bca9-251a1486a32f",
   "metadata": {},
   "source": [
    "### FIltering"
   ]
  },
  {
   "cell_type": "code",
   "execution_count": 9,
   "id": "5051d2a1-f3f4-4c9c-ae64-064242bcbbd9",
   "metadata": {},
   "outputs": [],
   "source": [
    "def cofiCostFunc(X,W,b,Y,R, lambda_=0):\n",
    "    cost = (((tf.linalg.matmul(X, tf.transpose(W)) + b) - Y) * R)**2 / 2\n",
    "    reg_w = (lambda_/2)*tf.reduce_sum(W**2)\n",
    "    reg_x = (lambda_/2)*tf.reduce_sum(X**2)\n",
    "    return tf.reduce_sum(cost) + reg_w + reg_x"
   ]
  },
  {
   "cell_type": "code",
   "execution_count": 10,
   "id": "b60e62aa-b5b8-4736-94a3-d2b984b00a22",
   "metadata": {},
   "outputs": [],
   "source": [
    "users1, movies1, features1 = 4, 5, 3\n",
    "X_r = X[:movies1, :features1]\n",
    "W_r = W[:users1, :features1]\n",
    "b_r = b[0, :users1].reshape(1, -1)\n",
    "Y_r = Y[:movies1, :users1]\n",
    "R_r = R[:movies1, :users1]"
   ]
  },
  {
   "cell_type": "code",
   "execution_count": 11,
   "id": "ed91066e-ffe2-4360-a758-696d84fd5022",
   "metadata": {},
   "outputs": [
    {
     "data": {
      "text/plain": [
       "(1, 4)"
      ]
     },
     "execution_count": 11,
     "metadata": {},
     "output_type": "execute_result"
    }
   ],
   "source": [
    "b_r.shape"
   ]
  },
  {
   "cell_type": "code",
   "execution_count": 12,
   "id": "c4835ab8-d70f-4aa0-894e-6be93b0c6ca5",
   "metadata": {},
   "outputs": [
    {
     "name": "stderr",
     "output_type": "stream",
     "text": [
      "I0000 00:00:1752051700.173774    2745 gpu_device.cc:2019] Created device /job:localhost/replica:0/task:0/device:GPU:0 with 5563 MB memory:  -> device: 0, name: NVIDIA GeForce RTX 4060 Laptop GPU, pci bus id: 0000:01:00.0, compute capability: 8.9\n"
     ]
    },
    {
     "data": {
      "text/plain": [
       "<tf.Tensor: shape=(), dtype=float64, numpy=13.670725805579917>"
      ]
     },
     "execution_count": 12,
     "metadata": {},
     "output_type": "execute_result"
    }
   ],
   "source": [
    "cofiCostFunc(X_r, W_r, b_r, Y_r, R_r)"
   ]
  },
  {
   "cell_type": "code",
   "execution_count": 13,
   "id": "3bf79cf3-d297-420a-9336-50dafc2908c3",
   "metadata": {},
   "outputs": [
    {
     "data": {
      "text/plain": [
       "<tf.Tensor: shape=(), dtype=float64, numpy=28.09383799145902>"
      ]
     },
     "execution_count": 13,
     "metadata": {},
     "output_type": "execute_result"
    }
   ],
   "source": [
    "cofiCostFunc(X_r, W_r, b_r, Y_r, R_r, 1.5)"
   ]
  },
  {
   "cell_type": "markdown",
   "id": "49ecf15c-9b82-4d11-9f18-1514d08609a4",
   "metadata": {},
   "source": [
    "### Preprocessing"
   ]
  },
  {
   "cell_type": "code",
   "execution_count": 14,
   "id": "7c53d4c4-0aae-42a6-890c-098a80effe65",
   "metadata": {},
   "outputs": [],
   "source": [
    "my_ratings = np.zeros(num_movies)\n",
    "\n",
    "my_ratings[2700] = 5 \n",
    "my_ratings[2609] = 2\n",
    "my_ratings[929]  = 5   # Lord of the Rings: The Return of the King, The\n",
    "my_ratings[246]  = 5   # Shrek (2001)\n",
    "my_ratings[2716] = 3   # Inception\n",
    "my_ratings[1150] = 5   # Incredibles, The (2004)\n",
    "my_ratings[382]  = 2   # Amelie (Fabuleux destin d'Amélie Poulain, Le)\n",
    "my_ratings[366]  = 5   # Harry Potter and the Sorcerer's Stone (a.k.a. Harry Potter and the Philosopher's Stone) (2001)\n",
    "my_ratings[622]  = 5   # Harry Potter and the Chamber of Secrets (2002)\n",
    "my_ratings[988]  = 3   # Eternal Sunshine of the Spotless Mind (2004)\n",
    "my_ratings[2925] = 1   # Louis Theroux: Law & Disorder (2008)\n",
    "my_ratings[2937] = 1   # Nothing to Declare (Rien à déclarer)\n",
    "my_ratings[793]  = 5   # Pirates of the Caribbean: The Curse of the Black Pearl (2003)"
   ]
  },
  {
   "cell_type": "code",
   "execution_count": 15,
   "id": "58634761-94c2-4c3f-9ecf-8153cb319b99",
   "metadata": {},
   "outputs": [],
   "source": [
    "my_rated = [i for i in range(len(my_ratings)) if my_ratings[i] > 0]"
   ]
  },
  {
   "cell_type": "code",
   "execution_count": 16,
   "id": "bf39b37d-0c81-4e2d-bc7b-fcb14546d3d8",
   "metadata": {},
   "outputs": [
    {
     "data": {
      "text/html": [
       "<div>\n",
       "<style scoped>\n",
       "    .dataframe tbody tr th:only-of-type {\n",
       "        vertical-align: middle;\n",
       "    }\n",
       "\n",
       "    .dataframe tbody tr th {\n",
       "        vertical-align: top;\n",
       "    }\n",
       "\n",
       "    .dataframe thead th {\n",
       "        text-align: right;\n",
       "    }\n",
       "</style>\n",
       "<table border=\"1\" class=\"dataframe\">\n",
       "  <thead>\n",
       "    <tr style=\"text-align: right;\">\n",
       "      <th></th>\n",
       "      <th>mean rating</th>\n",
       "      <th>number of ratings</th>\n",
       "      <th>title</th>\n",
       "    </tr>\n",
       "  </thead>\n",
       "  <tbody>\n",
       "    <tr>\n",
       "      <th>0</th>\n",
       "      <td>3.400000</td>\n",
       "      <td>5</td>\n",
       "      <td>Yards, The (2000)</td>\n",
       "    </tr>\n",
       "    <tr>\n",
       "      <th>1</th>\n",
       "      <td>3.250000</td>\n",
       "      <td>6</td>\n",
       "      <td>Next Friday (2000)</td>\n",
       "    </tr>\n",
       "    <tr>\n",
       "      <th>2</th>\n",
       "      <td>2.000000</td>\n",
       "      <td>4</td>\n",
       "      <td>Supernova (2000)</td>\n",
       "    </tr>\n",
       "    <tr>\n",
       "      <th>3</th>\n",
       "      <td>2.000000</td>\n",
       "      <td>4</td>\n",
       "      <td>Down to You (2000)</td>\n",
       "    </tr>\n",
       "    <tr>\n",
       "      <th>4</th>\n",
       "      <td>2.672414</td>\n",
       "      <td>29</td>\n",
       "      <td>Scream 3 (2000)</td>\n",
       "    </tr>\n",
       "  </tbody>\n",
       "</table>\n",
       "</div>"
      ],
      "text/plain": [
       "   mean rating  number of ratings               title\n",
       "0     3.400000                  5   Yards, The (2000)\n",
       "1     3.250000                  6  Next Friday (2000)\n",
       "2     2.000000                  4    Supernova (2000)\n",
       "3     2.000000                  4  Down to You (2000)\n",
       "4     2.672414                 29     Scream 3 (2000)"
      ]
     },
     "execution_count": 16,
     "metadata": {},
     "output_type": "execute_result"
    }
   ],
   "source": [
    "df = pd.read_csv(\"data/small_movie_list.csv\", header=0, index_col=0)\n",
    "df.head()"
   ]
  },
  {
   "cell_type": "code",
   "execution_count": 17,
   "id": "bba3e87f-a266-450a-b1c4-8091327b64ae",
   "metadata": {},
   "outputs": [],
   "source": [
    "movie_list = df[\"title\"].tolist()"
   ]
  },
  {
   "cell_type": "code",
   "execution_count": 18,
   "id": "a45bb8ee-896e-47c3-b25b-f617fbc8b818",
   "metadata": {},
   "outputs": [
    {
     "data": {
      "text/plain": [
       "['Yards, The (2000)',\n",
       " 'Next Friday (2000)',\n",
       " 'Supernova (2000)',\n",
       " 'Down to You (2000)',\n",
       " 'Scream 3 (2000)']"
      ]
     },
     "execution_count": 18,
     "metadata": {},
     "output_type": "execute_result"
    }
   ],
   "source": [
    "movie_list[:5]"
   ]
  },
  {
   "cell_type": "code",
   "execution_count": 19,
   "id": "e3c73e1b-45f3-4ad2-9b00-31dc5855ecbd",
   "metadata": {},
   "outputs": [
    {
     "name": "stdout",
     "output_type": "stream",
     "text": [
      "Rated 5.0 for Shrek (2001)\n",
      "Rated 5.0 for Harry Potter and the Sorcerer's Stone (a.k.a. Harry Potter and the Philosopher's Stone) (2001)\n",
      "Rated 2.0 for Amelie (Fabuleux destin d'Amélie Poulain, Le) (2001)\n",
      "Rated 5.0 for Harry Potter and the Chamber of Secrets (2002)\n",
      "Rated 5.0 for Pirates of the Caribbean: The Curse of the Black Pearl (2003)\n",
      "Rated 5.0 for Lord of the Rings: The Return of the King, The (2003)\n",
      "Rated 3.0 for Eternal Sunshine of the Spotless Mind (2004)\n",
      "Rated 5.0 for Incredibles, The (2004)\n",
      "Rated 2.0 for Persuasion (2007)\n",
      "Rated 5.0 for Toy Story 3 (2010)\n",
      "Rated 3.0 for Inception (2010)\n",
      "Rated 1.0 for Louis Theroux: Law & Disorder (2008)\n",
      "Rated 1.0 for Nothing to Declare (Rien à déclarer) (2010)\n"
     ]
    }
   ],
   "source": [
    "for i in my_rated:\n",
    "    print(f\"Rated {my_ratings[i]} for {movie_list[i]}\")"
   ]
  },
  {
   "cell_type": "code",
   "execution_count": 20,
   "id": "73a6e2de-4012-43c2-9200-15dce91b61bb",
   "metadata": {},
   "outputs": [],
   "source": [
    "Y = np.c_[my_ratings, Y]\n",
    "R = np.c_[(my_ratings!=0).astype(int), R]"
   ]
  },
  {
   "cell_type": "code",
   "execution_count": 21,
   "id": "626d6c91-ceb2-4e73-8b70-ac9030cd0693",
   "metadata": {},
   "outputs": [
    {
     "data": {
      "text/plain": [
       "array([3.4 , 3.25, 2.  , ..., 3.5 , 3.5 , 3.5 ], shape=(4778,))"
      ]
     },
     "execution_count": 21,
     "metadata": {},
     "output_type": "execute_result"
    }
   ],
   "source": [
    "average_ratings = np.sum(Y, axis=1) / (np.sum(R, axis=1) + 1e-12)\n",
    "average_ratings"
   ]
  },
  {
   "cell_type": "code",
   "execution_count": 22,
   "id": "c38915bd-f6f6-413c-b8b3-601a315ac2d3",
   "metadata": {},
   "outputs": [],
   "source": [
    "average_ratings = average_ratings.reshape(-1,1)"
   ]
  },
  {
   "cell_type": "code",
   "execution_count": 23,
   "id": "3f7b4e73-8adf-443c-b800-418061d79861",
   "metadata": {},
   "outputs": [
    {
     "data": {
      "text/plain": [
       "array([[0., 0., 0., ..., 0., 0., 0.],\n",
       "       [0., 0., 0., ..., 0., 0., 0.],\n",
       "       [0., 0., 0., ..., 0., 0., 0.],\n",
       "       ...,\n",
       "       [0., 0., 0., ..., 0., 0., 0.],\n",
       "       [0., 0., 0., ..., 0., 0., 0.],\n",
       "       [0., 0., 0., ..., 0., 0., 0.]], shape=(4778, 444))"
      ]
     },
     "execution_count": 23,
     "metadata": {},
     "output_type": "execute_result"
    }
   ],
   "source": [
    "Ynorm = Y - np.multiply(average_ratings,R)\n",
    "Ynorm"
   ]
  },
  {
   "cell_type": "markdown",
   "id": "5ffd962b-8a3b-4e74-97bb-982ad9dc3b00",
   "metadata": {},
   "source": [
    "### Training"
   ]
  },
  {
   "cell_type": "code",
   "execution_count": 24,
   "id": "6c26d125-af2b-47d0-aec6-63b1f99e830f",
   "metadata": {},
   "outputs": [],
   "source": [
    "tf.random.set_seed(1234)\n",
    "\n",
    "optimizer = tf.keras.optimizers.Adam(0.1)\n",
    "\n",
    "W = tf.Variable(tf.random.normal((Y.shape[1], 100), dtype=tf.float64), name='W')\n",
    "X = tf.Variable(tf.random.normal((Y.shape[0], 100), dtype=tf.float64), name='X')\n",
    "b = tf.Variable(tf.random.normal((1, Y.shape[1]), dtype=tf.float64), name='b')"
   ]
  },
  {
   "cell_type": "code",
   "execution_count": 25,
   "id": "af5f62a5-f499-43ec-a0a6-5fe7ac0efbae",
   "metadata": {},
   "outputs": [
    {
     "name": "stdout",
     "output_type": "stream",
     "text": [
      "Iteration: 0, Cost: 2321191.27\n",
      "Iteration: 20, Cost: 136169.26\n",
      "Iteration: 40, Cost: 51863.65\n",
      "Iteration: 60, Cost: 24599.03\n",
      "Iteration: 80, Cost: 13630.56\n",
      "Iteration: 100, Cost: 8487.74\n",
      "Iteration: 120, Cost: 5807.76\n",
      "Iteration: 140, Cost: 4311.64\n",
      "Iteration: 160, Cost: 3435.26\n",
      "Iteration: 180, Cost: 2902.09\n"
     ]
    }
   ],
   "source": [
    "for i in range(200):\n",
    "    with tf.GradientTape() as tape:\n",
    "        cost = cofiCostFunc(X, W, b, Ynorm, R, 1)\n",
    "        grads = tape.gradient(cost, [X, W, b])\n",
    "        optimizer.apply_gradients(zip(grads,[X, W, b]))\n",
    "    if i % 20 == 0:\n",
    "        print(f\"Iteration: {i}, Cost: {cost:0.2f}\")"
   ]
  },
  {
   "cell_type": "markdown",
   "id": "38cebb26-9fbb-4bd5-8737-03973339e34a",
   "metadata": {},
   "source": [
    "### Recomendations"
   ]
  },
  {
   "cell_type": "code",
   "execution_count": 26,
   "id": "2c7d8faf-1276-4add-aec6-ff5d9d0f9ed3",
   "metadata": {},
   "outputs": [],
   "source": [
    "pred = np.matmul(X.numpy(), np.transpose(W.numpy())) + b.numpy()"
   ]
  },
  {
   "cell_type": "code",
   "execution_count": 27,
   "id": "4e67cc58-3fb8-4ce4-841f-40180de58f0f",
   "metadata": {},
   "outputs": [],
   "source": [
    "pred = pred + average_ratings"
   ]
  },
  {
   "cell_type": "code",
   "execution_count": 35,
   "id": "6466716e-4ef1-48cd-8c26-d4f1d1fe76f5",
   "metadata": {},
   "outputs": [],
   "source": [
    "my_pred = pred[:, 0]"
   ]
  },
  {
   "cell_type": "code",
   "execution_count": 37,
   "id": "3f3aa2e3-19c8-4af0-a9f7-f57797544ce0",
   "metadata": {},
   "outputs": [],
   "source": [
    "ix = tf.argsort(my_pred, direction= \"DESCENDING\")"
   ]
  },
  {
   "cell_type": "code",
   "execution_count": 38,
   "id": "f071c6c8-1b7a-4e47-ae6e-bc789d10ea57",
   "metadata": {},
   "outputs": [
    {
     "data": {
      "text/plain": [
       "<tf.Tensor: shape=(4778,), dtype=int32, numpy=\n",
       "array([1150,  246,  929, ..., 3680, 2644, 1209],\n",
       "      shape=(4778,), dtype=int32)>"
      ]
     },
     "execution_count": 38,
     "metadata": {},
     "output_type": "execute_result"
    }
   ],
   "source": [
    "ix"
   ]
  },
  {
   "cell_type": "code",
   "execution_count": 40,
   "id": "783f82a4-7e68-4342-b9a6-6711e158c359",
   "metadata": {},
   "outputs": [
    {
     "name": "stdout",
     "output_type": "stream",
     "text": [
      "Predicting rating 4.49 for movie My Sassy Girl (Yeopgijeogin geunyeo) (2001)\n",
      "Predicting rating 4.48 for movie Martin Lawrence Live: Runteldat (2002)\n",
      "Predicting rating 4.48 for movie Memento (2000)\n",
      "Predicting rating 4.47 for movie Delirium (2014)\n",
      "Predicting rating 4.47 for movie Laggies (2014)\n",
      "Predicting rating 4.47 for movie One I Love, The (2014)\n",
      "Predicting rating 4.46 for movie Particle Fever (2013)\n",
      "Predicting rating 4.45 for movie Eichmann (2007)\n",
      "Predicting rating 4.45 for movie Battle Royale 2: Requiem (Batoru rowaiaru II: Chinkonka) (2003)\n",
      "Predicting rating 4.45 for movie Into the Abyss (2011)\n",
      "\n",
      "\n",
      "Original vs Predicted ratings:\n",
      "\n",
      "Original 5.0, Predicted 4.90 for Shrek (2001)\n",
      "Original 5.0, Predicted 4.84 for Harry Potter and the Sorcerer's Stone (a.k.a. Harry Potter and the Philosopher's Stone) (2001)\n",
      "Original 2.0, Predicted 2.13 for Amelie (Fabuleux destin d'Amélie Poulain, Le) (2001)\n",
      "Original 5.0, Predicted 4.88 for Harry Potter and the Chamber of Secrets (2002)\n",
      "Original 5.0, Predicted 4.87 for Pirates of the Caribbean: The Curse of the Black Pearl (2003)\n",
      "Original 5.0, Predicted 4.89 for Lord of the Rings: The Return of the King, The (2003)\n",
      "Original 3.0, Predicted 3.00 for Eternal Sunshine of the Spotless Mind (2004)\n",
      "Original 5.0, Predicted 4.90 for Incredibles, The (2004)\n",
      "Original 2.0, Predicted 2.11 for Persuasion (2007)\n",
      "Original 5.0, Predicted 4.80 for Toy Story 3 (2010)\n",
      "Original 3.0, Predicted 3.00 for Inception (2010)\n",
      "Original 1.0, Predicted 1.41 for Louis Theroux: Law & Disorder (2008)\n",
      "Original 1.0, Predicted 1.26 for Nothing to Declare (Rien à déclarer) (2010)\n"
     ]
    }
   ],
   "source": [
    "for i in range(17):\n",
    "    j = ix[i]\n",
    "    if j not in my_rated:\n",
    "        print(f'Predicting rating {my_pred[j]:0.2f} for movie {movie_list[j]}')\n",
    "\n",
    "print('\\n\\nOriginal vs Predicted ratings:\\n')\n",
    "for i in range(len(my_ratings)):\n",
    "    if my_ratings[i] > 0:\n",
    "        print(f'Original {my_ratings[i]}, Predicted {my_pred[i]:0.2f} for {movie_list[i]}')"
   ]
  },
  {
   "cell_type": "code",
   "execution_count": null,
   "id": "5bcd9405-ddda-4548-8582-283d930a8813",
   "metadata": {},
   "outputs": [],
   "source": []
  }
 ],
 "metadata": {
  "kernelspec": {
   "display_name": "Python 3.10 (ML)",
   "language": "python",
   "name": "ml3.11"
  },
  "language_info": {
   "codemirror_mode": {
    "name": "ipython",
    "version": 3
   },
   "file_extension": ".py",
   "mimetype": "text/x-python",
   "name": "python",
   "nbconvert_exporter": "python",
   "pygments_lexer": "ipython3",
   "version": "3.11.13"
  }
 },
 "nbformat": 4,
 "nbformat_minor": 5
}
